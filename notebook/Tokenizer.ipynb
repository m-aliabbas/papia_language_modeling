{
 "cells": [
  {
   "cell_type": "code",
   "execution_count": 1,
   "id": "1c927d22",
   "metadata": {},
   "outputs": [
    {
     "name": "stdout",
     "output_type": "stream",
     "text": [
      "m-aliabbas1\r\n"
     ]
    }
   ],
   "source": [
    "!huggingface-cli whoami"
   ]
  },
  {
   "cell_type": "code",
   "execution_count": 2,
   "id": "1365ff16",
   "metadata": {},
   "outputs": [],
   "source": [
    "from huggingface_hub import HfApi\n",
    "\n",
    "user_id = HfApi().whoami()[\"name\"]\n"
   ]
  },
  {
   "cell_type": "code",
   "execution_count": 3,
   "id": "bda9275a",
   "metadata": {},
   "outputs": [],
   "source": [
    "from datasets import *"
   ]
  },
  {
   "cell_type": "code",
   "execution_count": 4,
   "id": "b31e3fac",
   "metadata": {},
   "outputs": [],
   "source": [
    "import pandas as pd"
   ]
  },
  {
   "cell_type": "code",
   "execution_count": 5,
   "id": "5b5bef9e",
   "metadata": {},
   "outputs": [],
   "source": [
    "from tqdm import tqdm\n",
    "from transformers import BertTokenizerFast\n"
   ]
  },
  {
   "cell_type": "code",
   "execution_count": 27,
   "id": "280428b2",
   "metadata": {},
   "outputs": [],
   "source": [
    "tokenizer_id=\"bert-base-waspak-2023-papia\""
   ]
  },
  {
   "cell_type": "code",
   "execution_count": 7,
   "id": "ffa5c97f",
   "metadata": {},
   "outputs": [
    {
     "name": "stdout",
     "output_type": "stream",
     "text": [
      "ali.txt\t\t\t\t miniconda3\r\n",
      "clean_filenames.csv\t\t Miniconda3-latest-Linux-x86_64.sh\r\n",
      "clean_wiki_data.csv\t\t text_col.csv\r\n",
      "exp_data_cleaning_and_eda.ipynb  Tokenizer.ipynb\r\n",
      "exp_language_model_work\t\t Untitled.ipynb\r\n"
     ]
    }
   ],
   "source": [
    "!ls"
   ]
  },
  {
   "cell_type": "code",
   "execution_count": 13,
   "id": "fc11234c",
   "metadata": {},
   "outputs": [],
   "source": [
    "df = pd.read_csv('clean_filenames.csv')"
   ]
  },
  {
   "cell_type": "code",
   "execution_count": 14,
   "id": "d9509eef",
   "metadata": {},
   "outputs": [],
   "source": [
    "df=df.drop(df.columns[:2],axis=1)"
   ]
  },
  {
   "cell_type": "code",
   "execution_count": 15,
   "id": "1476a601",
   "metadata": {},
   "outputs": [],
   "source": [
    "df = df.rename(columns={'data':'text'})"
   ]
  },
  {
   "cell_type": "code",
   "execution_count": 16,
   "id": "97f9982f",
   "metadata": {},
   "outputs": [],
   "source": [
    "df.to_csv('text_col.csv',index=False)"
   ]
  },
  {
   "cell_type": "code",
   "execution_count": 19,
   "id": "03ce61a4",
   "metadata": {},
   "outputs": [],
   "source": [
    "text_list = list(df['text'].values)"
   ]
  },
  {
   "cell_type": "code",
   "execution_count": 20,
   "id": "27639e67",
   "metadata": {},
   "outputs": [],
   "source": [
    "from tqdm import tqdm\n",
    "from transformers import BertTokenizerFast"
   ]
  },
  {
   "cell_type": "code",
   "execution_count": 21,
   "id": "9b0a185d",
   "metadata": {},
   "outputs": [],
   "source": [
    "def batch_iterator(batch_size=100):\n",
    "    for i in tqdm(range(0, len(text_list), batch_size)):\n",
    "        batch = text_list[i : i + batch_size]\n",
    "        yield [str(text) for text in batch]"
   ]
  },
  {
   "cell_type": "code",
   "execution_count": 22,
   "id": "bc4083fd",
   "metadata": {},
   "outputs": [],
   "source": [
    "tokenizer = BertTokenizerFast.from_pretrained(\"bert-base-uncased\")"
   ]
  },
  {
   "cell_type": "code",
   "execution_count": 23,
   "id": "14ba57b1",
   "metadata": {},
   "outputs": [],
   "source": [
    "vocab_size = 30522"
   ]
  },
  {
   "cell_type": "code",
   "execution_count": 24,
   "id": "5ea2c929",
   "metadata": {},
   "outputs": [
    {
     "name": "stderr",
     "output_type": "stream",
     "text": [
      "100%|██████████████████████████████████████████████████████████████████████████████████████████| 47/47 [00:10<00:00,  4.68it/s]\n"
     ]
    },
    {
     "name": "stdout",
     "output_type": "stream",
     "text": [
      "\n",
      "\n",
      "\n"
     ]
    }
   ],
   "source": [
    "bert_tokenizer = tokenizer.train_new_from_iterator(text_iterator=batch_iterator(), vocab_size=vocab_size)"
   ]
  },
  {
   "cell_type": "code",
   "execution_count": 26,
   "id": "665c4dd1",
   "metadata": {},
   "outputs": [
    {
     "data": {
      "text/plain": [
       "('tokenizer_papia/tokenizer_config.json',\n",
       " 'tokenizer_papia/special_tokens_map.json',\n",
       " 'tokenizer_papia/vocab.txt',\n",
       " 'tokenizer_papia/added_tokens.json',\n",
       " 'tokenizer_papia/tokenizer.json')"
      ]
     },
     "execution_count": 26,
     "metadata": {},
     "output_type": "execute_result"
    }
   ],
   "source": [
    "bert_tokenizer.save_pretrained(\"tokenizer_papia\")"
   ]
  },
  {
   "cell_type": "code",
   "execution_count": 28,
   "id": "1fecfe26",
   "metadata": {},
   "outputs": [
    {
     "data": {
      "text/plain": [
       "CommitInfo(commit_url='https://huggingface.co/m-aliabbas1/bert-base-waspak-2023-papia/commit/8aeffb503d60340e59c227060a09e1bc45a04b5b', commit_message='Upload tokenizer', commit_description='', oid='8aeffb503d60340e59c227060a09e1bc45a04b5b', pr_url=None, pr_revision=None, pr_num=None)"
      ]
     },
     "execution_count": 28,
     "metadata": {},
     "output_type": "execute_result"
    }
   ],
   "source": [
    "bert_tokenizer.push_to_hub(tokenizer_id)"
   ]
  },
  {
   "cell_type": "code",
   "execution_count": null,
   "id": "8aa98ebc",
   "metadata": {},
   "outputs": [],
   "source": []
  }
 ],
 "metadata": {
  "kernelspec": {
   "display_name": "ali_nlp",
   "language": "python",
   "name": "ali_nlp"
  },
  "language_info": {
   "codemirror_mode": {
    "name": "ipython",
    "version": 3
   },
   "file_extension": ".py",
   "mimetype": "text/x-python",
   "name": "python",
   "nbconvert_exporter": "python",
   "pygments_lexer": "ipython3",
   "version": "3.10.12"
  }
 },
 "nbformat": 4,
 "nbformat_minor": 5
}
